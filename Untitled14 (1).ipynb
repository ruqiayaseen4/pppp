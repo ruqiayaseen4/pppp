{
 "cells": [
  {
   "cell_type": "markdown",
   "id": "37ae8ca1-f79d-4f66-a9b7-1b4072b5c78c",
   "metadata": {},
   "source": [
    "# Data Science Project: Seattle Weather Dataset Analysis"
   ]
  },
  {
   "cell_type": "markdown",
   "id": "9f55136b-2faf-4eff-990b-8e824d595ffd",
   "metadata": {},
   "source": [
    "# Group Members\n",
    "  RUQIA YASEEN                                                                                                                                             HAJRA SHAHID"
   ]
  },
  {
   "cell_type": "markdown",
   "id": "e1545e0f-77a7-4528-8454-3daef870f267",
   "metadata": {},
   "source": [
    "# Introduction:\n",
    "    In this project, we will work with the Seattle Weather dataset, which includes daily weather observations such as temperature, precipitation, and other weather-related metrics for Seattle. The goal is to preprocess the data, perform exploratory data analysis (EDA), and build and evaluate various regression models to predict a target variable. This project is divided into three main parts: Data Preprocessing, Exploratory Data Analysis (EDA), and Regression Modeling"
   ]
  },
  {
   "cell_type": "code",
   "execution_count": 22,
   "id": "f3e256db-de57-4962-af2d-78fd6e67e4fb",
   "metadata": {},
   "outputs": [],
   "source": [
    "import pandas as pd"
   ]
  },
  {
   "cell_type": "code",
   "execution_count": 21,
   "id": "230c3fd7-dfcd-4645-bd3f-7c0641ad5719",
   "metadata": {},
   "outputs": [],
   "source": [
    "import numpy as np"
   ]
  },
  {
   "cell_type": "code",
   "execution_count": 4,
   "id": "185720b4-5059-45a9-aa4a-8b52132f53f3",
   "metadata": {},
   "outputs": [],
   "source": [
    "import matplotlib.pyplot as plt"
   ]
  },
  {
   "cell_type": "code",
   "execution_count": 101,
   "id": "840ddbfb-5e64-4207-ba46-b01ec553887e",
   "metadata": {},
   "outputs": [],
   "source": [
    "from sklearn.preprocessing import StandardScaler"
   ]
  },
  {
   "cell_type": "code",
   "execution_count": 5,
   "id": "e7e41529-cc2b-4642-a9b3-8bb5b91dafe7",
   "metadata": {},
   "outputs": [],
   "source": [
    "#Load Dataset\n",
    "data=pd.read_csv('seattle_weather.csv')"
   ]
  },
  {
   "cell_type": "markdown",
   "id": "48a753c6-ce3a-45ca-bebd-53dd9fb3122a",
   "metadata": {},
   "source": [
    "data"
   ]
  },
  {
   "cell_type": "markdown",
   "id": "40ba0643-e552-44be-a8f3-1446e3256a4d",
   "metadata": {},
   "source": [
    "# Preprocessing"
   ]
  },
  {
   "cell_type": "markdown",
   "id": "2d8e8f1d-2f30-4d03-8f34-a26719199185",
   "metadata": {},
   "source": [
    "<b> 1.\tMissing Values:"
   ]
  },
  {
   "cell_type": "markdown",
   "id": "733a18cc-7b38-4e07-95ff-fa4cf8a8a82b",
   "metadata": {},
   "source": [
    "<b> o\tIdentify and list all columns in the dataset that have missing values.<i>"
   ]
  },
  {
   "cell_type": "code",
   "execution_count": 8,
   "id": "240c209f-2f69-4bcd-9e0c-0ecb2d1ba0d6",
   "metadata": {},
   "outputs": [
    {
     "data": {
      "text/plain": [
       "date             0\n",
       "precipitation    0\n",
       "temp_max         0\n",
       "temp_min         0\n",
       "wind             0\n",
       "weather          0\n",
       "dtype: int64"
      ]
     },
     "execution_count": 8,
     "metadata": {},
     "output_type": "execute_result"
    }
   ],
   "source": [
    "data.isna().sum()"
   ]
  },
  {
   "cell_type": "markdown",
   "id": "ed5a46de-888e-494e-a475-009260baf1a5",
   "metadata": {},
   "source": [
    "<b> Output:There is no missing value in the dataset<b>"
   ]
  },
  {
   "cell_type": "markdown",
   "id": "881c7c2d-0026-4e9c-9c71-9ee4a92b22c7",
   "metadata": {},
   "source": [
    "<b> o\tCalculate the percentage of missing values for each column in the dataset"
   ]
  },
  {
   "cell_type": "code",
   "execution_count": 11,
   "id": "8a630fdb-5890-42eb-a495-552662310245",
   "metadata": {},
   "outputs": [
    {
     "name": "stdout",
     "output_type": "stream",
     "text": [
      "Missing value percentage date             0.0\n",
      "precipitation    0.0\n",
      "temp_max         0.0\n",
      "temp_min         0.0\n",
      "wind             0.0\n",
      "weather          0.0\n",
      "dtype: float64\n"
     ]
    }
   ],
   "source": [
    "missing_value_percentage=(data.isna().sum()/len(data)*100)\n",
    "print('Missing value percentage',missing_value_percentage)"
   ]
  },
  {
   "cell_type": "markdown",
   "id": "718eec5e-ce76-4c0d-9f5d-9ebb1fbcfe13",
   "metadata": {},
   "source": [
    "<b> Output:As there is no missing value in the datyaset so the percentage of the missing value is equal to zero.<i>"
   ]
  },
  {
   "cell_type": "markdown",
   "id": "b34c8316-6497-44bb-839b-129115252eb0",
   "metadata": {},
   "source": [
    "<b>o\tFor the Max Temperature column, how would you handle the missing values? Describe your approach<i>\n",
    "                                                                                                   "
   ]
  },
  {
   "cell_type": "code",
   "execution_count": 14,
   "id": "30e761c1-f362-4b8b-adfa-7688e8016b65",
   "metadata": {},
   "outputs": [
    {
     "data": {
      "text/plain": [
       "np.int64(0)"
      ]
     },
     "execution_count": 14,
     "metadata": {},
     "output_type": "execute_result"
    }
   ],
   "source": [
    "temp=data['temp_max'].isna().sum()\n",
    "temp"
   ]
  },
  {
   "cell_type": "markdown",
   "id": "834bc60f-f58d-4ca8-a516-a2a8983dce43",
   "metadata": {},
   "source": [
    "<b> Output: No missing value found <i>"
   ]
  },
  {
   "cell_type": "markdown",
   "id": "98e48ef2-d989-4c7f-b89b-516383837e1d",
   "metadata": {},
   "source": [
    "<b> o\tFor the Precipitation column, how would you impute missing values? What method would you choose and why?<i>"
   ]
  },
  {
   "cell_type": "code",
   "execution_count": 15,
   "id": "15ca36d8-2825-444d-b3e9-6500aff792d2",
   "metadata": {},
   "outputs": [
    {
     "data": {
      "text/plain": [
       "np.int64(0)"
      ]
     },
     "execution_count": 15,
     "metadata": {},
     "output_type": "execute_result"
    }
   ],
   "source": [
    "precipitate=data['precipitation'].isna().sum()\n",
    "precipitate"
   ]
  },
  {
   "cell_type": "markdown",
   "id": "ce0c9b4c-81d5-4b6e-afd3-2ccba8ce53ec",
   "metadata": {},
   "source": [
    "<b>Output: No missing value found so we cannot impute missing value<i> "
   ]
  },
  {
   "cell_type": "markdown",
   "id": "6907e86c-50ad-40e6-8a91-afc9e64ba4c2",
   "metadata": {},
   "source": [
    "<b>o\tHow would you handle missing values in the Wind Speed column for the dataset?<i>"
   ]
  },
  {
   "cell_type": "code",
   "execution_count": 17,
   "id": "fbd5dca6-3b01-4751-8c96-967b1559e6e4",
   "metadata": {},
   "outputs": [
    {
     "data": {
      "text/plain": [
       "np.int64(0)"
      ]
     },
     "execution_count": 17,
     "metadata": {},
     "output_type": "execute_result"
    }
   ],
   "source": [
    "wind_speed=data['wind'].isna().sum()\n",
    "wind_speed"
   ]
  },
  {
   "cell_type": "markdown",
   "id": "e4f37169-9e6a-4626-8ab0-63f43dd158fc",
   "metadata": {},
   "source": [
    "<b>Output:The choice of method depends upon the distribution of the data and the amount of missing value .The amount of missing value in wind speed =0 so we cannot impute any value<i>"
   ]
  },
  {
   "cell_type": "markdown",
   "id": "1d4f5dcb-0a6b-4ede-98ee-0b329820f27c",
   "metadata": {},
   "source": [
    "<b>2.\tOutlier Handling:"
   ]
  },
  {
   "cell_type": "markdown",
   "id": "2f642b9e-d65f-49b9-9fb4-f94f5ec678f8",
   "metadata": {},
   "source": [
    "<b>o\tIdentify outliers in the max and min Temperature column using a suitable method (e.g., Z-score or IQR). Describe your findings<i>"
   ]
  },
  {
   "cell_type": "markdown",
   "id": "f1724d20-dc75-48d6-bc7a-09f41c0c4e5f",
   "metadata": {},
   "source": [
    "Q1=data['temp_max'].quantile(0.25)\n",
    "Q3=data['temp_max'].quantile(0.75)\n",
    "IQR=Q3-Q1\n",
    "lower=Q1-1.5*IQR\n",
    "upper=Q3+1.5*IQR\n",
    "cleaned=data[(data['temp_max']>lower)&(data['temp_max']<upper)]\n",
    "cleaned"
   ]
  },
  {
   "cell_type": "code",
   "execution_count": 53,
   "id": "44d550fe-14cf-4824-9bc5-7a3d355406bf",
   "metadata": {},
   "outputs": [
    {
     "data": {
      "text/plain": [
       "1461"
      ]
     },
     "execution_count": 53,
     "metadata": {},
     "output_type": "execute_result"
    }
   ],
   "source": [
    "a=data.shape[0]\n",
    "a"
   ]
  },
  {
   "cell_type": "code",
   "execution_count": 55,
   "id": "9ceca5e7-c983-4b5d-a31a-759e741a5df6",
   "metadata": {},
   "outputs": [
    {
     "data": {
      "text/plain": [
       "1461"
      ]
     },
     "execution_count": 55,
     "metadata": {},
     "output_type": "execute_result"
    }
   ],
   "source": [
    "b=cleaned.shape[0]\n",
    "b"
   ]
  },
  {
   "cell_type": "code",
   "execution_count": 57,
   "id": "45dc029e-f3ba-47aa-bc52-128f55854a13",
   "metadata": {},
   "outputs": [
    {
     "data": {
      "text/plain": [
       "0"
      ]
     },
     "execution_count": 57,
     "metadata": {},
     "output_type": "execute_result"
    }
   ],
   "source": [
    "outliers=a-b\n",
    "outliers"
   ]
  },
  {
   "cell_type": "code",
   "execution_count": 58,
   "id": "bc2020b5-ebb9-41b1-ab87-792d8b15837d",
   "metadata": {},
   "outputs": [
    {
     "data": {
      "text/html": [
       "<div>\n",
       "<style scoped>\n",
       "    .dataframe tbody tr th:only-of-type {\n",
       "        vertical-align: middle;\n",
       "    }\n",
       "\n",
       "    .dataframe tbody tr th {\n",
       "        vertical-align: top;\n",
       "    }\n",
       "\n",
       "    .dataframe thead th {\n",
       "        text-align: right;\n",
       "    }\n",
       "</style>\n",
       "<table border=\"1\" class=\"dataframe\">\n",
       "  <thead>\n",
       "    <tr style=\"text-align: right;\">\n",
       "      <th></th>\n",
       "      <th>date</th>\n",
       "      <th>precipitation</th>\n",
       "      <th>temp_max</th>\n",
       "      <th>temp_min</th>\n",
       "      <th>wind</th>\n",
       "      <th>weather</th>\n",
       "    </tr>\n",
       "  </thead>\n",
       "  <tbody>\n",
       "    <tr>\n",
       "      <th>0</th>\n",
       "      <td>1/1/2012</td>\n",
       "      <td>0.0</td>\n",
       "      <td>12.8</td>\n",
       "      <td>5.0</td>\n",
       "      <td>4.7</td>\n",
       "      <td>drizzle</td>\n",
       "    </tr>\n",
       "    <tr>\n",
       "      <th>1</th>\n",
       "      <td>1/2/2012</td>\n",
       "      <td>10.9</td>\n",
       "      <td>10.6</td>\n",
       "      <td>2.8</td>\n",
       "      <td>4.5</td>\n",
       "      <td>rain</td>\n",
       "    </tr>\n",
       "    <tr>\n",
       "      <th>2</th>\n",
       "      <td>1/3/2012</td>\n",
       "      <td>0.8</td>\n",
       "      <td>11.7</td>\n",
       "      <td>7.2</td>\n",
       "      <td>2.3</td>\n",
       "      <td>rain</td>\n",
       "    </tr>\n",
       "    <tr>\n",
       "      <th>3</th>\n",
       "      <td>1/4/2012</td>\n",
       "      <td>20.3</td>\n",
       "      <td>12.2</td>\n",
       "      <td>5.6</td>\n",
       "      <td>4.7</td>\n",
       "      <td>rain</td>\n",
       "    </tr>\n",
       "    <tr>\n",
       "      <th>4</th>\n",
       "      <td>1/5/2012</td>\n",
       "      <td>1.3</td>\n",
       "      <td>8.9</td>\n",
       "      <td>2.8</td>\n",
       "      <td>6.1</td>\n",
       "      <td>rain</td>\n",
       "    </tr>\n",
       "    <tr>\n",
       "      <th>...</th>\n",
       "      <td>...</td>\n",
       "      <td>...</td>\n",
       "      <td>...</td>\n",
       "      <td>...</td>\n",
       "      <td>...</td>\n",
       "      <td>...</td>\n",
       "    </tr>\n",
       "    <tr>\n",
       "      <th>1456</th>\n",
       "      <td>12/27/2015</td>\n",
       "      <td>8.6</td>\n",
       "      <td>4.4</td>\n",
       "      <td>1.7</td>\n",
       "      <td>2.9</td>\n",
       "      <td>rain</td>\n",
       "    </tr>\n",
       "    <tr>\n",
       "      <th>1457</th>\n",
       "      <td>12/28/2015</td>\n",
       "      <td>1.5</td>\n",
       "      <td>5.0</td>\n",
       "      <td>1.7</td>\n",
       "      <td>1.3</td>\n",
       "      <td>rain</td>\n",
       "    </tr>\n",
       "    <tr>\n",
       "      <th>1458</th>\n",
       "      <td>12/29/2015</td>\n",
       "      <td>0.0</td>\n",
       "      <td>7.2</td>\n",
       "      <td>0.6</td>\n",
       "      <td>2.6</td>\n",
       "      <td>fog</td>\n",
       "    </tr>\n",
       "    <tr>\n",
       "      <th>1459</th>\n",
       "      <td>12/30/2015</td>\n",
       "      <td>0.0</td>\n",
       "      <td>5.6</td>\n",
       "      <td>-1.0</td>\n",
       "      <td>3.4</td>\n",
       "      <td>sun</td>\n",
       "    </tr>\n",
       "    <tr>\n",
       "      <th>1460</th>\n",
       "      <td>12/31/2015</td>\n",
       "      <td>0.0</td>\n",
       "      <td>5.6</td>\n",
       "      <td>-2.1</td>\n",
       "      <td>3.5</td>\n",
       "      <td>sun</td>\n",
       "    </tr>\n",
       "  </tbody>\n",
       "</table>\n",
       "<p>1461 rows × 6 columns</p>\n",
       "</div>"
      ],
      "text/plain": [
       "            date  precipitation  temp_max  temp_min  wind  weather\n",
       "0       1/1/2012            0.0      12.8       5.0   4.7  drizzle\n",
       "1       1/2/2012           10.9      10.6       2.8   4.5     rain\n",
       "2       1/3/2012            0.8      11.7       7.2   2.3     rain\n",
       "3       1/4/2012           20.3      12.2       5.6   4.7     rain\n",
       "4       1/5/2012            1.3       8.9       2.8   6.1     rain\n",
       "...          ...            ...       ...       ...   ...      ...\n",
       "1456  12/27/2015            8.6       4.4       1.7   2.9     rain\n",
       "1457  12/28/2015            1.5       5.0       1.7   1.3     rain\n",
       "1458  12/29/2015            0.0       7.2       0.6   2.6      fog\n",
       "1459  12/30/2015            0.0       5.6      -1.0   3.4      sun\n",
       "1460  12/31/2015            0.0       5.6      -2.1   3.5      sun\n",
       "\n",
       "[1461 rows x 6 columns]"
      ]
     },
     "execution_count": 58,
     "metadata": {},
     "output_type": "execute_result"
    }
   ],
   "source": [
    "Q1=data['temp_min'].quantile(0.25)\n",
    "Q3=data['temp_min'].quantile(0.75)\n",
    "IQR=Q3-Q1\n",
    "lower=Q1-1.5*IQR\n",
    "upper=Q3+1.5*IQR\n",
    "cleaned=data[(data['temp_min']>lower)&(data['temp_min']<upper)]\n",
    "cleaned"
   ]
  },
  {
   "cell_type": "code",
   "execution_count": 59,
   "id": "a5aa60e3-ee88-4cab-a367-d9a5c1332450",
   "metadata": {},
   "outputs": [
    {
     "data": {
      "text/plain": [
       "1461"
      ]
     },
     "execution_count": 59,
     "metadata": {},
     "output_type": "execute_result"
    }
   ],
   "source": [
    "a=data.shape[0]\n",
    "a"
   ]
  },
  {
   "cell_type": "code",
   "execution_count": 60,
   "id": "13e4145c-1862-4d1d-80ce-aff7e9f0476b",
   "metadata": {},
   "outputs": [
    {
     "data": {
      "text/plain": [
       "1461"
      ]
     },
     "execution_count": 60,
     "metadata": {},
     "output_type": "execute_result"
    }
   ],
   "source": [
    "b=cleaned.shape[0]\n",
    "b"
   ]
  },
  {
   "cell_type": "code",
   "execution_count": 61,
   "id": "5df55446-62b3-4a87-89f8-23ab9e354926",
   "metadata": {},
   "outputs": [
    {
     "data": {
      "text/plain": [
       "0"
      ]
     },
     "execution_count": 61,
     "metadata": {},
     "output_type": "execute_result"
    }
   ],
   "source": [
    "outliers=a-b\n",
    "outliers"
   ]
  },
  {
   "cell_type": "markdown",
   "id": "77774690-d685-461d-9d9b-369d2b4e1c56",
   "metadata": {},
   "source": [
    "<b>Output:Here we use IQR method to detect outliers in the given dataset.<i>"
   ]
  },
  {
   "cell_type": "markdown",
   "id": "acb819d0-3eca-40ba-bc25-c7f13f67201f",
   "metadata": {},
   "source": [
    "<b>o\tHow would you handle outliers in the Precipitation column? Explain your approach.<i>"
   ]
  },
  {
   "cell_type": "code",
   "execution_count": 71,
   "id": "7a4dcc5a-db9f-4a5d-94dc-6600db173004",
   "metadata": {},
   "outputs": [
    {
     "data": {
      "text/html": [
       "<div>\n",
       "<style scoped>\n",
       "    .dataframe tbody tr th:only-of-type {\n",
       "        vertical-align: middle;\n",
       "    }\n",
       "\n",
       "    .dataframe tbody tr th {\n",
       "        vertical-align: top;\n",
       "    }\n",
       "\n",
       "    .dataframe thead th {\n",
       "        text-align: right;\n",
       "    }\n",
       "</style>\n",
       "<table border=\"1\" class=\"dataframe\">\n",
       "  <thead>\n",
       "    <tr style=\"text-align: right;\">\n",
       "      <th></th>\n",
       "      <th>date</th>\n",
       "      <th>precipitation</th>\n",
       "      <th>temp_max</th>\n",
       "      <th>temp_min</th>\n",
       "      <th>wind</th>\n",
       "      <th>weather</th>\n",
       "    </tr>\n",
       "  </thead>\n",
       "  <tbody>\n",
       "    <tr>\n",
       "      <th>0</th>\n",
       "      <td>1/1/2012</td>\n",
       "      <td>0.0</td>\n",
       "      <td>12.8</td>\n",
       "      <td>5.0</td>\n",
       "      <td>4.7</td>\n",
       "      <td>drizzle</td>\n",
       "    </tr>\n",
       "    <tr>\n",
       "      <th>2</th>\n",
       "      <td>1/3/2012</td>\n",
       "      <td>0.8</td>\n",
       "      <td>11.7</td>\n",
       "      <td>7.2</td>\n",
       "      <td>2.3</td>\n",
       "      <td>rain</td>\n",
       "    </tr>\n",
       "    <tr>\n",
       "      <th>4</th>\n",
       "      <td>1/5/2012</td>\n",
       "      <td>1.3</td>\n",
       "      <td>8.9</td>\n",
       "      <td>2.8</td>\n",
       "      <td>6.1</td>\n",
       "      <td>rain</td>\n",
       "    </tr>\n",
       "    <tr>\n",
       "      <th>5</th>\n",
       "      <td>1/6/2012</td>\n",
       "      <td>2.5</td>\n",
       "      <td>4.4</td>\n",
       "      <td>2.2</td>\n",
       "      <td>2.2</td>\n",
       "      <td>rain</td>\n",
       "    </tr>\n",
       "    <tr>\n",
       "      <th>6</th>\n",
       "      <td>1/7/2012</td>\n",
       "      <td>0.0</td>\n",
       "      <td>7.2</td>\n",
       "      <td>2.8</td>\n",
       "      <td>2.3</td>\n",
       "      <td>rain</td>\n",
       "    </tr>\n",
       "    <tr>\n",
       "      <th>...</th>\n",
       "      <td>...</td>\n",
       "      <td>...</td>\n",
       "      <td>...</td>\n",
       "      <td>...</td>\n",
       "      <td>...</td>\n",
       "      <td>...</td>\n",
       "    </tr>\n",
       "    <tr>\n",
       "      <th>1455</th>\n",
       "      <td>12/26/2015</td>\n",
       "      <td>0.0</td>\n",
       "      <td>4.4</td>\n",
       "      <td>0.0</td>\n",
       "      <td>2.5</td>\n",
       "      <td>sun</td>\n",
       "    </tr>\n",
       "    <tr>\n",
       "      <th>1457</th>\n",
       "      <td>12/28/2015</td>\n",
       "      <td>1.5</td>\n",
       "      <td>5.0</td>\n",
       "      <td>1.7</td>\n",
       "      <td>1.3</td>\n",
       "      <td>rain</td>\n",
       "    </tr>\n",
       "    <tr>\n",
       "      <th>1458</th>\n",
       "      <td>12/29/2015</td>\n",
       "      <td>0.0</td>\n",
       "      <td>7.2</td>\n",
       "      <td>0.6</td>\n",
       "      <td>2.6</td>\n",
       "      <td>fog</td>\n",
       "    </tr>\n",
       "    <tr>\n",
       "      <th>1459</th>\n",
       "      <td>12/30/2015</td>\n",
       "      <td>0.0</td>\n",
       "      <td>5.6</td>\n",
       "      <td>-1.0</td>\n",
       "      <td>3.4</td>\n",
       "      <td>sun</td>\n",
       "    </tr>\n",
       "    <tr>\n",
       "      <th>1460</th>\n",
       "      <td>12/31/2015</td>\n",
       "      <td>0.0</td>\n",
       "      <td>5.6</td>\n",
       "      <td>-2.1</td>\n",
       "      <td>3.5</td>\n",
       "      <td>sun</td>\n",
       "    </tr>\n",
       "  </tbody>\n",
       "</table>\n",
       "<p>1255 rows × 6 columns</p>\n",
       "</div>"
      ],
      "text/plain": [
       "            date  precipitation  temp_max  temp_min  wind  weather\n",
       "0       1/1/2012            0.0      12.8       5.0   4.7  drizzle\n",
       "2       1/3/2012            0.8      11.7       7.2   2.3     rain\n",
       "4       1/5/2012            1.3       8.9       2.8   6.1     rain\n",
       "5       1/6/2012            2.5       4.4       2.2   2.2     rain\n",
       "6       1/7/2012            0.0       7.2       2.8   2.3     rain\n",
       "...          ...            ...       ...       ...   ...      ...\n",
       "1455  12/26/2015            0.0       4.4       0.0   2.5      sun\n",
       "1457  12/28/2015            1.5       5.0       1.7   1.3     rain\n",
       "1458  12/29/2015            0.0       7.2       0.6   2.6      fog\n",
       "1459  12/30/2015            0.0       5.6      -1.0   3.4      sun\n",
       "1460  12/31/2015            0.0       5.6      -2.1   3.5      sun\n",
       "\n",
       "[1255 rows x 6 columns]"
      ]
     },
     "execution_count": 71,
     "metadata": {},
     "output_type": "execute_result"
    }
   ],
   "source": [
    "Q1=data['precipitation'].quantile(0.25)\n",
    "Q3=data['precipitation'].quantile(0.75)\n",
    "IQR=Q3-Q1\n",
    "lower=Q1-1.5*IQR\n",
    "upper=Q3+1.5*IQR\n",
    "cleaned_df1=data[(data['precipitation']>lower)&(data['precipitation']<upper)]\n",
    "cleaned_df1"
   ]
  },
  {
   "cell_type": "code",
   "execution_count": 67,
   "id": "43b87753-7f83-4ed6-bb80-a524528ae54a",
   "metadata": {},
   "outputs": [
    {
     "data": {
      "text/plain": [
       "1461"
      ]
     },
     "execution_count": 67,
     "metadata": {},
     "output_type": "execute_result"
    }
   ],
   "source": [
    "a=data.shape[0]\n",
    "a\n"
   ]
  },
  {
   "cell_type": "code",
   "execution_count": 72,
   "id": "b3ad63f4-b679-4876-a5c4-67748367c80b",
   "metadata": {},
   "outputs": [
    {
     "data": {
      "text/plain": [
       "1255"
      ]
     },
     "execution_count": 72,
     "metadata": {},
     "output_type": "execute_result"
    }
   ],
   "source": [
    "b=cleaned_df1.shape[0]\n",
    "b"
   ]
  },
  {
   "cell_type": "code",
   "execution_count": 73,
   "id": "474a8fc1-3d6c-4546-bb24-ed8f99cbbf79",
   "metadata": {},
   "outputs": [
    {
     "data": {
      "text/plain": [
       "206"
      ]
     },
     "execution_count": 73,
     "metadata": {},
     "output_type": "execute_result"
    }
   ],
   "source": [
    "outliers=a-b\n",
    "outliers"
   ]
  },
  {
   "cell_type": "markdown",
   "id": "f0c8c7b9-205c-489f-9b24-8a904a4e73d1",
   "metadata": {},
   "source": [
    "<b>Output:Here we use IQR method to detect outliers in the given dataset.outliers in precipitation column = 206<i>"
   ]
  },
  {
   "cell_type": "markdown",
   "id": "b880b657-b479-42dc-b689-bc2c2369a445",
   "metadata": {},
   "source": [
    "<b>o\tDiscuss the impact of outliers on the Wind Speed feature. Should you remove or transform these outliers?<i>"
   ]
  },
  {
   "cell_type": "code",
   "execution_count": 75,
   "id": "249d0a6b-72a9-4f38-a3fd-e09eabb6f89a",
   "metadata": {},
   "outputs": [
    {
     "data": {
      "text/html": [
       "<div>\n",
       "<style scoped>\n",
       "    .dataframe tbody tr th:only-of-type {\n",
       "        vertical-align: middle;\n",
       "    }\n",
       "\n",
       "    .dataframe tbody tr th {\n",
       "        vertical-align: top;\n",
       "    }\n",
       "\n",
       "    .dataframe thead th {\n",
       "        text-align: right;\n",
       "    }\n",
       "</style>\n",
       "<table border=\"1\" class=\"dataframe\">\n",
       "  <thead>\n",
       "    <tr style=\"text-align: right;\">\n",
       "      <th></th>\n",
       "      <th>date</th>\n",
       "      <th>precipitation</th>\n",
       "      <th>temp_max</th>\n",
       "      <th>temp_min</th>\n",
       "      <th>wind</th>\n",
       "      <th>weather</th>\n",
       "    </tr>\n",
       "  </thead>\n",
       "  <tbody>\n",
       "    <tr>\n",
       "      <th>0</th>\n",
       "      <td>1/1/2012</td>\n",
       "      <td>0.0</td>\n",
       "      <td>12.8</td>\n",
       "      <td>5.0</td>\n",
       "      <td>4.7</td>\n",
       "      <td>drizzle</td>\n",
       "    </tr>\n",
       "    <tr>\n",
       "      <th>1</th>\n",
       "      <td>1/2/2012</td>\n",
       "      <td>10.9</td>\n",
       "      <td>10.6</td>\n",
       "      <td>2.8</td>\n",
       "      <td>4.5</td>\n",
       "      <td>rain</td>\n",
       "    </tr>\n",
       "    <tr>\n",
       "      <th>2</th>\n",
       "      <td>1/3/2012</td>\n",
       "      <td>0.8</td>\n",
       "      <td>11.7</td>\n",
       "      <td>7.2</td>\n",
       "      <td>2.3</td>\n",
       "      <td>rain</td>\n",
       "    </tr>\n",
       "    <tr>\n",
       "      <th>3</th>\n",
       "      <td>1/4/2012</td>\n",
       "      <td>20.3</td>\n",
       "      <td>12.2</td>\n",
       "      <td>5.6</td>\n",
       "      <td>4.7</td>\n",
       "      <td>rain</td>\n",
       "    </tr>\n",
       "    <tr>\n",
       "      <th>4</th>\n",
       "      <td>1/5/2012</td>\n",
       "      <td>1.3</td>\n",
       "      <td>8.9</td>\n",
       "      <td>2.8</td>\n",
       "      <td>6.1</td>\n",
       "      <td>rain</td>\n",
       "    </tr>\n",
       "    <tr>\n",
       "      <th>...</th>\n",
       "      <td>...</td>\n",
       "      <td>...</td>\n",
       "      <td>...</td>\n",
       "      <td>...</td>\n",
       "      <td>...</td>\n",
       "      <td>...</td>\n",
       "    </tr>\n",
       "    <tr>\n",
       "      <th>1456</th>\n",
       "      <td>12/27/2015</td>\n",
       "      <td>8.6</td>\n",
       "      <td>4.4</td>\n",
       "      <td>1.7</td>\n",
       "      <td>2.9</td>\n",
       "      <td>rain</td>\n",
       "    </tr>\n",
       "    <tr>\n",
       "      <th>1457</th>\n",
       "      <td>12/28/2015</td>\n",
       "      <td>1.5</td>\n",
       "      <td>5.0</td>\n",
       "      <td>1.7</td>\n",
       "      <td>1.3</td>\n",
       "      <td>rain</td>\n",
       "    </tr>\n",
       "    <tr>\n",
       "      <th>1458</th>\n",
       "      <td>12/29/2015</td>\n",
       "      <td>0.0</td>\n",
       "      <td>7.2</td>\n",
       "      <td>0.6</td>\n",
       "      <td>2.6</td>\n",
       "      <td>fog</td>\n",
       "    </tr>\n",
       "    <tr>\n",
       "      <th>1459</th>\n",
       "      <td>12/30/2015</td>\n",
       "      <td>0.0</td>\n",
       "      <td>5.6</td>\n",
       "      <td>-1.0</td>\n",
       "      <td>3.4</td>\n",
       "      <td>sun</td>\n",
       "    </tr>\n",
       "    <tr>\n",
       "      <th>1460</th>\n",
       "      <td>12/31/2015</td>\n",
       "      <td>0.0</td>\n",
       "      <td>5.6</td>\n",
       "      <td>-2.1</td>\n",
       "      <td>3.5</td>\n",
       "      <td>sun</td>\n",
       "    </tr>\n",
       "  </tbody>\n",
       "</table>\n",
       "<p>1427 rows × 6 columns</p>\n",
       "</div>"
      ],
      "text/plain": [
       "            date  precipitation  temp_max  temp_min  wind  weather\n",
       "0       1/1/2012            0.0      12.8       5.0   4.7  drizzle\n",
       "1       1/2/2012           10.9      10.6       2.8   4.5     rain\n",
       "2       1/3/2012            0.8      11.7       7.2   2.3     rain\n",
       "3       1/4/2012           20.3      12.2       5.6   4.7     rain\n",
       "4       1/5/2012            1.3       8.9       2.8   6.1     rain\n",
       "...          ...            ...       ...       ...   ...      ...\n",
       "1456  12/27/2015            8.6       4.4       1.7   2.9     rain\n",
       "1457  12/28/2015            1.5       5.0       1.7   1.3     rain\n",
       "1458  12/29/2015            0.0       7.2       0.6   2.6      fog\n",
       "1459  12/30/2015            0.0       5.6      -1.0   3.4      sun\n",
       "1460  12/31/2015            0.0       5.6      -2.1   3.5      sun\n",
       "\n",
       "[1427 rows x 6 columns]"
      ]
     },
     "execution_count": 75,
     "metadata": {},
     "output_type": "execute_result"
    }
   ],
   "source": [
    "Q1=data['wind'].quantile(0.25)\n",
    "Q3=data['wind'].quantile(0.75)\n",
    "IQR=Q3-Q1\n",
    "lower=Q1-1.5*IQR\n",
    "upper=Q3+1.5*IQR\n",
    "cleaned_df2=data[(data['wind']>lower)&(data['wind']<upper)]\n",
    "cleaned_df2"
   ]
  },
  {
   "cell_type": "code",
   "execution_count": 76,
   "id": "b9a36de4-1efa-4d05-8e0b-89afbdc31e6f",
   "metadata": {},
   "outputs": [
    {
     "data": {
      "text/plain": [
       "1461"
      ]
     },
     "execution_count": 76,
     "metadata": {},
     "output_type": "execute_result"
    }
   ],
   "source": [
    "a1=data.shape[0]\n",
    "a1\n"
   ]
  },
  {
   "cell_type": "code",
   "execution_count": 102,
   "id": "c6fb3110-4d90-4856-ba55-b9b7f2aa56c4",
   "metadata": {},
   "outputs": [
    {
     "data": {
      "text/plain": [
       "1427"
      ]
     },
     "execution_count": 102,
     "metadata": {},
     "output_type": "execute_result"
    }
   ],
   "source": [
    "b=cleaned_df2.shape[0]\n",
    "b"
   ]
  },
  {
   "cell_type": "code",
   "execution_count": 80,
   "id": "985f53ee-62d4-42fe-b929-c443ecd8166d",
   "metadata": {},
   "outputs": [
    {
     "data": {
      "text/plain": [
       "34"
      ]
     },
     "execution_count": 80,
     "metadata": {},
     "output_type": "execute_result"
    }
   ],
   "source": [
    "outliers=a1-b\n",
    "outliers"
   ]
  },
  {
   "cell_type": "markdown",
   "id": "ff0e5ccd-0795-4ea9-a747-edaf348186a3",
   "metadata": {},
   "source": [
    "<b>Output:Here we use IQR method to detect outliers in the given dataset.outliers in precipitation column = 34<i>"
   ]
  },
  {
   "cell_type": "markdown",
   "id": "6d85e63f-eee4-408a-a218-75ed79bc31a9",
   "metadata": {},
   "source": [
    "<b>o\tVisualize the outliers in the wind,temp_max,temp_min,precipitation column using box plots. What insights can you gain?<i>"
   ]
  },
  {
   "cell_type": "code",
   "execution_count": 113,
   "id": "8ac11864-860b-411e-8ce4-d7471a56dd6c",
   "metadata": {},
   "outputs": [
    {
     "data": {
      "image/png": "[encoded data removed]",
      "text/plain": [
       "<Figure size 640x480 with 1 Axes>"
      ]
     },
     "metadata": {},
     "output_type": "display_data"
    }
   ],
   "source": [
    "plt.boxplot(cleaned_df2[['wind','temp_max','temp_min','precipitation']])\n",
    "box_colors=dict(boxes='DarkGreen',whiskers='DarkOrange')\n",
    "box_colors\n",
    "plt.title('box plot of wind')\n",
    "plt.xlabel('wind')\n",
    "plt.show()"
   ]
  },
  {
   "cell_type": "markdown",
   "id": "96deface-afc6-4237-8acd-c8c82b9c765c",
   "metadata": {},
   "source": [
    "<b>o How does scaling affect outlier detection in the Temperature column? Apply scaling and observe the changes.<i>"
   ]
  },
  {
   "cell_type": "code",
   "execution_count": 120,
   "id": "3f83b403-4970-4f59-abde-bb58052d3c15",
   "metadata": {},
   "outputs": [
    {
     "data": {
      "text/plain": [
       "0      -0.495299\n",
       "1      -0.794731\n",
       "2      -0.645015\n",
       "3      -0.576962\n",
       "4      -1.026111\n",
       "          ...   \n",
       "1456   -1.638585\n",
       "1457   -1.556922\n",
       "1458   -1.257490\n",
       "1459   -1.475259\n",
       "1460   -1.475259\n",
       "Name: temp_max, Length: 1461, dtype: float64"
      ]
     },
     "execution_count": 120,
     "metadata": {},
     "output_type": "execute_result"
    }
   ],
   "source": [
    "scaler=StandardScaler()\n",
    "scaled_data=scaler.fit_transform(data['temp_max'].values.reshape(-1,1))\n",
    "data['temp_max']=scaled_data\n",
    "data['temp_max']"
   ]
  },
  {
   "cell_type": "code",
   "execution_count": null,
   "id": "6b3cf274-807f-40be-86a4-17f286e2b8a2",
   "metadata": {},
   "outputs": [],
   "source": [
    "import sea"
   ]
  },
  {
   "cell_type": "code",
   "execution_count": null,
   "id": "f01e13d4-0573-4648-8039-8d47ef76d647",
   "metadata": {},
   "outputs": [],
   "source": []
  },
  {
   "cell_type": "code",
   "execution_count": null,
   "id": "1f7310cc-8b58-4923-87af-ad6ed3487dc3",
   "metadata": {},
   "outputs": [],
   "source": []
  },
  {
   "cell_type": "code",
   "execution_count": null,
   "id": "304937cf-fd97-4162-8f4f-7e109dea43e1",
   "metadata": {},
   "outputs": [],
   "source": []
  }
 ],
 "metadata": {
  "kernelspec": {
   "display_name": "Python 3 (ipykernel)",
   "language": "python",
   "name": "python3"
  },
  "language_info": {
   "codemirror_mode": {
    "name": "ipython",
    "version": 3
   },
   "file_extension": ".py",
   "mimetype": "text/x-python",
   "name": "python",
   "nbconvert_exporter": "python",
   "pygments_lexer": "ipython3",
   "version": "3.12.3"
  }
 },
 "nbformat": 4,
 "nbformat_minor": 5
}
